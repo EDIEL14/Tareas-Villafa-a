{
 "cells": [
  {
   "cell_type": "markdown",
   "metadata": {},
   "source": [
    "##TEMA 9\n",
    "\n",
    "Crear un sistema que permita trabajar con las clases netflix o spotify.\n",
    "\n",
    "este sistema debera obtener los datos de los objetos intanciados, crear un archivo .txt con la base al nombre \n",
    "y otro archivo.txt con las categorias y los datos de la cancion o pelicula, este ultimo archivo debera contener \n",
    "todos los datos.\n",
    "\n",
    "- Los archivos de nombre deberan estar en una carpeta llamada canciones o peliculas y los archivos de todos los datos.\n",
    "\n",
    "el primer archivo con el nombre es un \"w\"\n",
    "el segundo archivo que añade por categoria es un \"a\""
   ]
  },
  {
   "cell_type": "code",
   "execution_count": 4,
   "metadata": {},
   "outputs": [],
   "source": [
    "import os\n",
    "\n",
    "class Spotify:\n",
    "    def __init__(self, artista, album, num_canciones, duracion_min, duracion_seg, genero, lanzamiento, mes_lanzamiento, dia_lanzamiento, cancion_mas_popular):\n",
    "        self.artista = artista\n",
    "        self.album = album\n",
    "        self.num_canciones = num_canciones\n",
    "        self.duracion_min = duracion_min  \n",
    "        self.duracion_seg = duracion_seg\n",
    "        self.genero = genero\n",
    "        self.lanzamiento = lanzamiento\n",
    "        self.mes_lanzamiento = mes_lanzamiento\n",
    "        self.dia_lanzamiento = dia_lanzamiento\n",
    "        self.cancion_mas_popular = cancion_mas_popular\n",
    "\n",
    "        os.makedirs(\"Canciones\", exist_ok=True)\n",
    "        os.makedirs(\"Categorias\", exist_ok=True)\n",
    "\n",
    "    def guardar_datos(self):\n",
    "        archivo_nombre = f\"Canciones/{self.artista} - {self.album}.txt\"\n",
    "        archivo_categoria = f\"Categorias/{self.genero}.txt\" \n",
    "\n",
    "        with open(archivo_nombre, \"w\") as archivo:\n",
    "            archivo.write(f\"{self.artista} - {self.album}\\n\")\n",
    "\n",
    "        with open(archivo_categoria, \"a\") as archivo:\n",
    "            archivo.write(f\"Artista: {self.artista}\\n\")\n",
    "            archivo.write(f\"Album: {self.album} ({self.num_canciones} canciones)\\n\")\n",
    "            archivo.write(f\"Lanzamiento: {self.dia_lanzamiento} de {self.mes_lanzamiento} de {self.lanzamiento}\\n\")\n",
    "            archivo.write(f\"Duracion: {self.duracion_min} min {self.duracion_seg} s\\n\")\n",
    "            archivo.write(f\"Genero: {self.genero}\\n\")\n",
    "            archivo.write(f\"Cancion mas Popular: {self.cancion_mas_popular}\\n\")\n",
    "            archivo.write(\"-\" * 40 + \"\\n\") \n",
    "\n",
    "Spotify1 = Spotify(\"Bad Bunny\", \"OASIS\", 8, 31, 6, \"Reggaeton\", 2019, \"Junio\", 28, \"Amorfoda\")\n",
    "Spotify2 = Spotify(\"Becky G\", \"MALA SANTA\", 16, 52, 53, \"Reggaeton\", 2019, \"Octubre\", 18, \"Mayores\")\n",
    "Spotify3 = Spotify(\"KAROL G\", \"Manana Sera Bonito (Bichota Season)\", 10, 30, 13, \"Reggaeton\", 2023, \"Agosto\", 11, \"TUSA\")\n",
    "Spotify4 = Spotify(\"Shakira\", \"Las Mujeres Ya No Lloran\", 17, 51, 13, \"Pop\", 2024, \"Marzo\", 22, \"La La La\")\n",
    "\n",
    "Spotify1.guardar_datos()\n",
    "Spotify2.guardar_datos()\n",
    "Spotify3.guardar_datos()\n",
    "Spotify4.guardar_datos()\n"
   ]
  }
 ],
 "metadata": {
  "kernelspec": {
   "display_name": "Python 3",
   "language": "python",
   "name": "python3"
  },
  "language_info": {
   "codemirror_mode": {
    "name": "ipython",
    "version": 3
   },
   "file_extension": ".py",
   "mimetype": "text/x-python",
   "name": "python",
   "nbconvert_exporter": "python",
   "pygments_lexer": "ipython3",
   "version": "3.11.9"
  }
 },
 "nbformat": 4,
 "nbformat_minor": 2
}
