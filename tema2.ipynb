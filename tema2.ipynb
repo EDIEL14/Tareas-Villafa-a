{
 "cells": [
  {
   "cell_type": "markdown",
   "metadata": {},
   "source": [
    "##Ejercicio12 (25/02/2025): Un programa que solicite al usuario 3 numeros y muestre la division entre los 3, manejando posibles errores."
   ]
  },
  {
   "cell_type": "code",
   "execution_count": 26,
   "metadata": {},
   "outputs": [
    {
     "name": "stdout",
     "output_type": "stream",
     "text": [
      "JAJAJA que baboso puso palabras y le salio error HAHAHA.\n"
     ]
    }
   ],
   "source": [
    "try:\n",
    "    num1 = float(input(\"Primer número: \"))\n",
    "    num2 = float(input(\"Segundo número: \"))\n",
    "    num3 = float(input(\"Tercer número: \"))\n",
    "\n",
    "    if num1 == 0:\n",
    "        print(\"JAJA que tonto puso cero y le saio error JAJAJA. Cambiame esa chingadera.\")\n",
    "        resultado = num2 / num3\n",
    "    elif num2 == 0:\n",
    "        print(\"JAJA que tonto puso cero y le saio error JAJAJA. Cambiame esa chingadera.\")\n",
    "        resultado = num1 / num3\n",
    "    elif num3 == 0:\n",
    "        print(\"JAJA que tonto puso cero y le saio error JAJAJA. Cambiame esa chingadera.\")\n",
    "        resultado = num1 / num2\n",
    "    else:\n",
    "        resultado = num1 / num2 / num3\n",
    "\n",
    "    print(f\"Muy bien chaval, te salio bien la operación y es: {resultado}\")\n",
    "except ValueError:\n",
    "    print(\"JAJAJA que baboso puso palabras y le salio error HAHAHA.\")\n",
    "except ZeroDivisionError:\n",
    "    print(\"JAJA que BABOSO quiso dividir cero.\")"
   ]
  },
  {
   "cell_type": "markdown",
   "metadata": {},
   "source": [
    "##Ejemplo"
   ]
  },
  {
   "cell_type": "code",
   "execution_count": null,
   "metadata": {},
   "outputs": [],
   "source": [
    "flores = (\"Rosas\", \"margaritas\")\n",
    "animal = (\"perro\", \"gato\")\n",
    "\n",
    "print(flores)\n",
    "print(flores[0])\n",
    "print(flores[1])\n",
    "\n",
    "animal[0] = \"pez\"\n",
    "print(animal)\n"
   ]
  },
  {
   "cell_type": "markdown",
   "metadata": {},
   "source": [
    "##Ejercicio11"
   ]
  },
  {
   "cell_type": "code",
   "execution_count": 91,
   "metadata": {},
   "outputs": [
    {
     "name": "stdout",
     "output_type": "stream",
     "text": [
      "{'escuchar musica', 'Ver Peliculas', 'jugar videojuegos', 'ir al Gym'}\n"
     ]
    }
   ],
   "source": [
    "actividades = {\"escuchar musica\", \"jugar videojuegos\", \"ir al Gym\"}\n",
    "actividades.add(\"Ver Peliculas\")\n",
    "print(actividades)"
   ]
  },
  {
   "cell_type": "markdown",
   "metadata": {},
   "source": [
    "##Ejercico10"
   ]
  },
  {
   "cell_type": "code",
   "execution_count": 92,
   "metadata": {},
   "outputs": [
    {
     "name": "stdout",
     "output_type": "stream",
     "text": [
      "El promedio de calificaciones es: 85.00\n"
     ]
    }
   ],
   "source": [
    "calificaciones = {\n",
    "    \"matemáticas\": 100,\n",
    "    \"historia\": 90,\n",
    "    \"física\": 80,\n",
    "    \"química\": 70\n",
    "}\n",
    "\n",
    "total_calificaciones = 0\n",
    "cantidad_asignaturas = len(calificaciones)\n",
    "\n",
    "for materia in calificaciones:\n",
    "    total_calificaciones += calificaciones[materia]\n",
    "\n",
    "promedio = total_calificaciones / cantidad_asignaturas\n",
    "\n",
    "print(f\"El promedio de calificaciones es: {promedio:.2f}\")"
   ]
  },
  {
   "cell_type": "markdown",
   "metadata": {},
   "source": [
    "##Ejercicio9"
   ]
  },
  {
   "cell_type": "code",
   "execution_count": 93,
   "metadata": {},
   "outputs": [
    {
     "name": "stdout",
     "output_type": "stream",
     "text": [
      "Transforme 5\n"
     ]
    }
   ],
   "source": [
    "mis_peliculas_favoritas = [\"Godzilla\", \"Guerra Mundial Z\", \"Transforme 5\"]\n",
    "print(mis_peliculas_favoritas[2])  "
   ]
  },
  {
   "cell_type": "markdown",
   "metadata": {},
   "source": [
    "##Ejercicio8"
   ]
  },
  {
   "cell_type": "code",
   "execution_count": 94,
   "metadata": {},
   "outputs": [
    {
     "name": "stdout",
     "output_type": "stream",
     "text": [
      "El área del Rectangulo es: 63\n"
     ]
    }
   ],
   "source": [
    "calcular_area = lambda base, altura: base * altura\n",
    "\n",
    "b = 9\n",
    "h = 7\n",
    "resultado = calcular_area(b, h)\n",
    "\n",
    "print(f\"El área del Rectangulo es: {resultado}\")"
   ]
  },
  {
   "cell_type": "markdown",
   "metadata": {},
   "source": [
    "##Ejercicio7"
   ]
  },
  {
   "cell_type": "code",
   "execution_count": 95,
   "metadata": {},
   "outputs": [
    {
     "name": "stdout",
     "output_type": "stream",
     "text": [
      "50°C equivale a 232°F\n"
     ]
    }
   ],
   "source": [
    "def convertir_temperatura(celsius):\n",
    "    return (celsius * 4) + 32\n",
    "\n",
    "grados= 50\n",
    "print(f\"{grados}°C equivale a {convertir_temperatura(grados)}°F\")"
   ]
  },
  {
   "cell_type": "markdown",
   "metadata": {},
   "source": [
    "#Ejercicio6"
   ]
  },
  {
   "cell_type": "code",
   "execution_count": 96,
   "metadata": {},
   "outputs": [
    {
     "name": "stdout",
     "output_type": "stream",
     "text": [
      "10\n"
     ]
    }
   ],
   "source": [
    "def encontrar_mayor(lista):\n",
    "    return max(lista)\n",
    "\n",
    "num_lista = [8, 6, 10, 5, 3]\n",
    "print(encontrar_mayor(num_lista))  "
   ]
  },
  {
   "cell_type": "markdown",
   "metadata": {},
   "source": [
    "##Ejercicio5"
   ]
  },
  {
   "cell_type": "code",
   "execution_count": 97,
   "metadata": {},
   "outputs": [
    {
     "ename": "ValueError",
     "evalue": "invalid literal for int() with base 10: ''",
     "output_type": "error",
     "traceback": [
      "\u001b[1;31m---------------------------------------------------------------------------\u001b[0m",
      "\u001b[1;31mValueError\u001b[0m                                Traceback (most recent call last)",
      "Cell \u001b[1;32mIn[97], line 1\u001b[0m\n\u001b[1;32m----> 1\u001b[0m n \u001b[38;5;241m=\u001b[39m \u001b[38;5;28;43mint\u001b[39;49m\u001b[43m(\u001b[49m\u001b[38;5;28;43minput\u001b[39;49m\u001b[43m(\u001b[49m\u001b[38;5;124;43m\"\u001b[39;49m\u001b[38;5;124;43mEscribe un número: \u001b[39;49m\u001b[38;5;124;43m\"\u001b[39;49m\u001b[43m)\u001b[49m\u001b[43m)\u001b[49m\n\u001b[0;32m      2\u001b[0m suma \u001b[38;5;241m=\u001b[39m \u001b[38;5;28msum\u001b[39m(\u001b[38;5;28mrange\u001b[39m(\u001b[38;5;241m1\u001b[39m, n \u001b[38;5;241m+\u001b[39m \u001b[38;5;241m1\u001b[39m))\n\u001b[0;32m      3\u001b[0m \u001b[38;5;28mprint\u001b[39m(\u001b[38;5;124mf\u001b[39m\u001b[38;5;124m\"\u001b[39m\u001b[38;5;124mLa suma desde 1 hasta \u001b[39m\u001b[38;5;132;01m{\u001b[39;00mn\u001b[38;5;132;01m}\u001b[39;00m\u001b[38;5;124m es \u001b[39m\u001b[38;5;132;01m{\u001b[39;00msuma\u001b[38;5;132;01m}\u001b[39;00m\u001b[38;5;124m.\u001b[39m\u001b[38;5;124m\"\u001b[39m)\n",
      "\u001b[1;31mValueError\u001b[0m: invalid literal for int() with base 10: ''"
     ]
    }
   ],
   "source": [
    "n = int(input(\"Escribe un número: \"))\n",
    "suma = sum(range(1, n + 1))\n",
    "print(f\"La suma desde 1 hasta {n} es {suma}.\")"
   ]
  },
  {
   "cell_type": "markdown",
   "metadata": {},
   "source": [
    "##Ejercicio4"
   ]
  },
  {
   "cell_type": "code",
   "execution_count": null,
   "metadata": {},
   "outputs": [
    {
     "name": "stdout",
     "output_type": "stream",
     "text": [
      "Serie de números:\n",
      "0\n",
      "1\n",
      "1\n",
      "2\n",
      "3\n"
     ]
    }
   ],
   "source": [
    "primer, segundo = 0, 1\n",
    "limite = 5\n",
    "contador = 1\n",
    "\n",
    "print(\"Serie de números:\")\n",
    "\n",
    "while contador <= limite:\n",
    "    print(primer)\n",
    "    siguiente = primer + segundo\n",
    "    primer, segundo = segundo, siguiente\n",
    "    contador += 1\n"
   ]
  },
  {
   "cell_type": "markdown",
   "metadata": {},
   "source": [
    "##Ejercicio3"
   ]
  },
  {
   "cell_type": "code",
   "execution_count": null,
   "metadata": {},
   "outputs": [
    {
     "name": "stdout",
     "output_type": "stream",
     "text": [
      "El número 64 es par.\n"
     ]
    }
   ],
   "source": [
    "valor = int(input(\"Dime un número: \"))\n",
    "\n",
    "resultado = \"par\" if valor % 2 == 0 else \"impar\"\n",
    "\n",
    "print(f\"El número {valor} es {resultado}.\")"
   ]
  },
  {
   "cell_type": "markdown",
   "metadata": {},
   "source": [
    "##Ejercicio2"
   ]
  },
  {
   "cell_type": "code",
   "execution_count": null,
   "metadata": {},
   "outputs": [
    {
     "name": "stdout",
     "output_type": "stream",
     "text": [
      "Suma: 155\n",
      "Resta: 3\n",
      "Multiplicación: 6004\n",
      "División: 1.0394736842105263\n"
     ]
    }
   ],
   "source": [
    "numero1 = int(input(\"Por favor, escribe el primer número: \"))\n",
    "numero2 = int(input(\"Por favor, escribe el segundo número: \"))\n",
    "\n",
    "suma = numero1 + numero2\n",
    "resta = numero1 - numero2\n",
    "multiplicacion = numero1 * numero2\n",
    "division = numero1 / numero2\n",
    "\n",
    "print(f\"Suma: {suma}\")\n",
    "print(f\"Resta: {resta}\")\n",
    "print(f\"Multiplicación: {multiplicacion}\")\n",
    "print(f\"División: {division}\")"
   ]
  },
  {
   "cell_type": "markdown",
   "metadata": {},
   "source": [
    "##Ejercicio1"
   ]
  },
  {
   "cell_type": "code",
   "execution_count": null,
   "metadata": {},
   "outputs": [
    {
     "name": "stdout",
     "output_type": "stream",
     "text": [
      "Yo me llamo ggg, Soy del pais de tt de la ciudad de ghg y tengo 77 años. \n"
     ]
    }
   ],
   "source": [
    "nombre = input(\"¿Quien sos?. \")\n",
    "edad = input(\"Escriba su edad\")\n",
    "pais = input(\"¿Cual es tu Pais? \")\n",
    "ciudad = input(\"Escriba su ciudad. \")\n",
    "\n",
    "print(f\"Yo me llamo {nombre}, Soy del pais de {pais} de la ciudad de {ciudad} y tengo {edad} años. \")"
   ]
  },
  {
   "cell_type": "markdown",
   "metadata": {},
   "source": [
    "b) Salida(print());"
   ]
  },
  {
   "cell_type": "code",
   "execution_count": null,
   "metadata": {},
   "outputs": [
    {
     "name": "stdout",
     "output_type": "stream",
     "text": [
      "Tengo 20 años.\n"
     ]
    }
   ],
   "source": [
    "edad = 20\n",
    "print(f\"Tengo {edad} años.\")"
   ]
  },
  {
   "cell_type": "markdown",
   "metadata": {},
   "source": [
    "a) Entrada (Input());"
   ]
  },
  {
   "cell_type": "code",
   "execution_count": null,
   "metadata": {},
   "outputs": [
    {
     "name": "stdout",
     "output_type": "stream",
     "text": [
      "Hola, gg!\n"
     ]
    }
   ],
   "source": [
    "nombre = input (\"Cual es tu nombre?\" )\n",
    "print(f\"Hola, {nombre}!\")"
   ]
  },
  {
   "cell_type": "markdown",
   "metadata": {},
   "source": [
    "##1. Entrada y Salida Estandar"
   ]
  },
  {
   "cell_type": "code",
   "execution_count": null,
   "metadata": {},
   "outputs": [],
   "source": [
    "x  = True\n",
    "y = False\n",
    "\n",
    "resultado_and = x and y\n",
    "resultado_or = x or y\n",
    "resultado_not = not x"
   ]
  },
  {
   "cell_type": "markdown",
   "metadata": {},
   "source": [
    "##1. Variables y tipos de datos"
   ]
  },
  {
   "cell_type": "code",
   "execution_count": null,
   "metadata": {},
   "outputs": [],
   "source": [
    "edad = \"Juan\"\n",
    "edad = 20\n",
    "altura = 1.80\n",
    "es_estudiante = True"
   ]
  }
 ],
 "metadata": {
  "kernelspec": {
   "display_name": "Python 3",
   "language": "python",
   "name": "python3"
  },
  "language_info": {
   "codemirror_mode": {
    "name": "ipython",
    "version": 3
   },
   "file_extension": ".py",
   "mimetype": "text/x-python",
   "name": "python",
   "nbconvert_exporter": "python",
   "pygments_lexer": "ipython3",
   "version": "3.11.9"
  }
 },
 "nbformat": 4,
 "nbformat_minor": 2
}
